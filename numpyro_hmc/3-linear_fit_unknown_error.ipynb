{
 "cells": [
  {
   "cell_type": "code",
   "execution_count": null,
   "id": "a3aaec6d",
   "metadata": {},
   "outputs": [],
   "source": [
    "import numpy as np\n",
    "import jax.numpy as jnp\n",
    "import matplotlib.pyplot as plt\n",
    "from jax import random\n",
    "import numpyro\n",
    "import numpyro.distributions as dist\n",
    "from numpyro.infer import MCMC, NUTS"
   ]
  },
  {
   "cell_type": "code",
   "execution_count": null,
   "id": "0438e717",
   "metadata": {},
   "outputs": [],
   "source": [
    "plt.rcParams[\"figure.dpi\"] = 150"
   ]
  },
  {
   "cell_type": "markdown",
   "id": "eee7ca41",
   "metadata": {},
   "source": [
    "## データの生成\n",
    "1-linear_fitと同様にノイズ入りのデータを生成する。"
   ]
  },
  {
   "cell_type": "code",
   "execution_count": null,
   "id": "6c96ac99",
   "metadata": {},
   "outputs": [],
   "source": [
    "num_data = 30"
   ]
  },
  {
   "cell_type": "code",
   "execution_count": null,
   "id": "1fb9a35d",
   "metadata": {},
   "outputs": [],
   "source": [
    "np.random.seed(123)\n",
    "x = np.random.rand(num_data) * 5"
   ]
  },
  {
   "cell_type": "code",
   "execution_count": null,
   "id": "a3ce79f1",
   "metadata": {},
   "outputs": [],
   "source": [
    "def true_model(x, a=1.5, b=-0.3):\n",
    "    model = a * x + b \n",
    "    return model"
   ]
  },
  {
   "cell_type": "code",
   "execution_count": null,
   "id": "79777977",
   "metadata": {},
   "outputs": [],
   "source": [
    "y_true = true_model(x)"
   ]
  },
  {
   "cell_type": "code",
   "execution_count": null,
   "id": "b56b732f",
   "metadata": {},
   "outputs": [],
   "source": [
    "np.random.seed(124)\n",
    "sigma_true = 0.15\n",
    "noise = np.random.randn(num_data) * sigma_true\n",
    "y_obs = y_true + noise"
   ]
  },
  {
   "cell_type": "code",
   "execution_count": null,
   "id": "5be99046",
   "metadata": {},
   "outputs": [],
   "source": [
    "plt.xlabel(\"x\")\n",
    "plt.ylabel(\"y\")\n",
    "plt.errorbar(x, y_obs, fmt='o', lw=0.5, markersize=3, label='observed data')\n",
    "plt.legend();"
   ]
  },
  {
   "cell_type": "markdown",
   "id": "eb996d7a",
   "metadata": {},
   "source": [
    "## 練習\n",
    "\n",
    "再び$y$と$x$の関係が\n",
    "$$ y = ax+b $$\n",
    "で与えらえれるとして$(a,b)$を推定しよう。ただしこれまでとは異なり、測定誤差$e$の標準偏差$\\sigma$は未知である（平均$0$の正規分布であることは仮定する）として、$(a,b)$だけでなく$\\sigma$も同時に推定しよう。このとき$\\sigma$にも適切な事前分布を設定する必要がある。"
   ]
  }
 ],
 "metadata": {
  "kernelspec": {
   "display_name": "Python 3 (ipykernel)",
   "language": "python",
   "name": "python3"
  },
  "language_info": {
   "codemirror_mode": {
    "name": "ipython",
    "version": 3
   },
   "file_extension": ".py",
   "mimetype": "text/x-python",
   "name": "python",
   "nbconvert_exporter": "python",
   "pygments_lexer": "ipython3",
   "version": "3.9.12"
  }
 },
 "nbformat": 4,
 "nbformat_minor": 5
}
